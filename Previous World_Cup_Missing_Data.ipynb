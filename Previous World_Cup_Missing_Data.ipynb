{
 "cells": [
  {
   "cell_type": "code",
   "execution_count": 10,
   "id": "808d446a-7394-45ed-bb5f-a8fd970a8ee9",
   "metadata": {},
   "outputs": [],
   "source": [
    "from selenium import webdriver\n",
    "from selenium.webdriver.edge.service import Service\n",
    "import time\n",
    "import pandas as pd"
   ]
  },
  {
   "cell_type": "code",
   "execution_count": 11,
   "id": "5649d707-9dcb-4d96-8dda-70d1cfb94bed",
   "metadata": {},
   "outputs": [],
   "source": [
    "path = \"C:\\\\Users\\\\Ammtoje\\\\Documents\\\\Edge_Selenium_Driver\\\\msedgedriver.exe\"\n",
    "service = Service(executable_path=path)\n",
    "driver = webdriver.Edge(service=service)"
   ]
  },
  {
   "cell_type": "code",
   "execution_count": 12,
   "id": "f8d99fe0-96e9-4d7b-9d01-320bf76db212",
   "metadata": {},
   "outputs": [],
   "source": [
    "years = [i for i in range(1930, 2019, 4) if i not in (1942, 1946)]"
   ]
  },
  {
   "cell_type": "code",
   "execution_count": 13,
   "id": "5c632295-efa4-4a74-8cbe-8ec3b5f03c58",
   "metadata": {},
   "outputs": [],
   "source": [
    "def get_misssing_data(year):\n",
    "    web = f'https://en.wikipedia.org/wiki/{year}_FIFA_World_Cup'\n",
    "\n",
    "    driver.get(web)\n",
    "    matches = driver.find_elements(by='xpath', value='//tr[@style=\"font-size:90%\"]')\n",
    "\n",
    "    home = []\n",
    "    score = []\n",
    "    away = []\n",
    "\n",
    "    for match in matches:\n",
    "        home.append(match.find_element(by='xpath', value='./td[1]').text)\n",
    "        score.append(match.find_element(by='xpath', value='./td[2]').text)\n",
    "        away.append(match.find_element(by='xpath', value='./td[3]').text)\n",
    "\n",
    "    dict_football = {'home': home, 'score': score, 'away': away}\n",
    "    df_football = pd.DataFrame(dict_football)\n",
    "    df_football['year'] = year\n",
    "    time.sleep(2)\n",
    "    return df_football"
   ]
  },
  {
   "cell_type": "code",
   "execution_count": 14,
   "id": "5afa8e84-b30a-4f05-a19d-178ccf6f0359",
   "metadata": {},
   "outputs": [],
   "source": [
    "fifa = [get_misssing_data(year) for year in years]\n",
    "driver.quit()\n",
    "df_fifa = pd.concat(fifa, ignore_index=True)\n",
    "df_fifa.to_csv(\"fifa_worldcup_missing_data.csv\", index=False)"
   ]
  },
  {
   "cell_type": "code",
   "execution_count": null,
   "id": "12b7ecca-99a3-4de3-a51c-c8d11bb2007e",
   "metadata": {},
   "outputs": [],
   "source": []
  }
 ],
 "metadata": {
  "kernelspec": {
   "display_name": "Python 3 (ipykernel)",
   "language": "python",
   "name": "python3"
  },
  "language_info": {
   "codemirror_mode": {
    "name": "ipython",
    "version": 3
   },
   "file_extension": ".py",
   "mimetype": "text/x-python",
   "name": "python",
   "nbconvert_exporter": "python",
   "pygments_lexer": "ipython3",
   "version": "3.10.12"
  }
 },
 "nbformat": 4,
 "nbformat_minor": 5
}
