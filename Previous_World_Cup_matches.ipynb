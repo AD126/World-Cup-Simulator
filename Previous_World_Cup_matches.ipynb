{
 "cells": [
  {
   "cell_type": "code",
   "execution_count": 1,
   "id": "7f557e88-4544-4590-bba3-8de3e3dd3b00",
   "metadata": {},
   "outputs": [],
   "source": [
    "from bs4 import BeautifulSoup\n",
    "import requests\n",
    "import pandas as pd"
   ]
  },
  {
   "cell_type": "code",
   "execution_count": 72,
   "id": "1251323e-ea14-47e6-a177-b79f84a827a0",
   "metadata": {},
   "outputs": [],
   "source": [
    "years = [i for i in range(1930, 2019, 4) if i not in (1942, 1946)]"
   ]
  },
  {
   "cell_type": "code",
   "execution_count": 73,
   "id": "add247b3-e049-4942-a84b-4ed8480cb133",
   "metadata": {},
   "outputs": [
    {
     "data": {
      "text/plain": [
       "[1930,\n",
       " 1934,\n",
       " 1938,\n",
       " 1950,\n",
       " 1954,\n",
       " 1958,\n",
       " 1962,\n",
       " 1966,\n",
       " 1970,\n",
       " 1974,\n",
       " 1978,\n",
       " 1982,\n",
       " 1986,\n",
       " 1990,\n",
       " 1994,\n",
       " 1998,\n",
       " 2002,\n",
       " 2006,\n",
       " 2010,\n",
       " 2014,\n",
       " 2018]"
      ]
     },
     "execution_count": 73,
     "metadata": {},
     "output_type": "execute_result"
    }
   ],
   "source": [
    "years"
   ]
  },
  {
   "cell_type": "code",
   "execution_count": 74,
   "id": "a079e203-4724-45aa-becf-ffd28a141f13",
   "metadata": {},
   "outputs": [
    {
     "data": {
      "text/plain": [
       "21"
      ]
     },
     "execution_count": 74,
     "metadata": {},
     "output_type": "execute_result"
    }
   ],
   "source": [
    "len(years)"
   ]
  },
  {
   "cell_type": "code",
   "execution_count": 75,
   "id": "670a4078-d38e-4c52-9b2e-99b594d8b0af",
   "metadata": {},
   "outputs": [],
   "source": [
    "def get_matches(year):\n",
    "    web = f\"https://en.wikipedia.org/wiki/{year}_FIFA_World_Cup\"\n",
    "    response = requests.get(web) # Sends request to the website\n",
    "    content = response.text # Gets the HTML contents of the website\n",
    "    soup = BeautifulSoup(content, 'lxml') # Crucial for parsing through the contents of the website \n",
    "    matches = soup.find_all('div', class_ = 'footballbox') # gives us every match in the world cup\n",
    "    \n",
    "    home = [match.find('th', class_ = 'fhome').get_text() for match in matches]\n",
    "    score = [match.find('th', class_ = 'fscore').get_text() for match in matches]\n",
    "    away = [match.find('th', class_ = 'faway').get_text() for match in matches]\n",
    "        \n",
    "    football_dict = {'home':home, 'score':score, 'away':away}\n",
    "    football_df = pd.DataFrame(football_dict)\n",
    "    football_df['year'] = year\n",
    "    return football_df"
   ]
  },
  {
   "cell_type": "code",
   "execution_count": 76,
   "id": "0083f56c-6f0e-48d7-bb0f-4d77b8573192",
   "metadata": {},
   "outputs": [],
   "source": [
    "fifa = [get_matches(year) for year in years]\n",
    "fifa_df = pd.concat(fifa, ignore_index = True)\n",
    "fifa_df.to_csv('fifa_worldcup_historical_data.csv', index = False)"
   ]
  },
  {
   "cell_type": "code",
   "execution_count": 77,
   "id": "cbcb6d33-ba72-4dbd-a6ff-508b04b61139",
   "metadata": {},
   "outputs": [],
   "source": [
    "def get_matches_2022():\n",
    "    web = \"https://web.archive.org/web/20221115040351/https://en.wikipedia.org/wiki/2022_FIFA_World_Cup\"\n",
    "    response = requests.get(web) # Sends request to the website\n",
    "    content = response.text # Gets the HTML contents of the website\n",
    "    soup = BeautifulSoup(content, 'lxml') # Crucial for parsing through the contents of the website \n",
    "    matches = soup.find_all('div', class_ = 'footballbox') # gives us every match in the world cup\n",
    "    \n",
    "    home = [match.find('th', class_ = 'fhome').get_text() for match in matches]\n",
    "    score = [match.find('th', class_ = 'fscore').get_text() for match in matches]\n",
    "    away = [match.find('th', class_ = 'faway').get_text() for match in matches]\n",
    "        \n",
    "    football_dict = {'home':home, 'score':score, 'away':away}\n",
    "    football_df = pd.DataFrame(football_dict)\n",
    "    football_df['year'] = 2022\n",
    "    return football_df"
   ]
  },
  {
   "cell_type": "code",
   "execution_count": 78,
   "id": "eb8638ea-7da3-4019-b4f6-e651e4e26c48",
   "metadata": {},
   "outputs": [],
   "source": [
    "df_fixture = get_matches_2022()\n",
    "df_fixture.to_csv('fifa_worldcup_fixture.csv', index = False)"
   ]
  },
  {
   "cell_type": "code",
   "execution_count": null,
   "id": "33b26bd3-3f22-4db2-9242-4feee991e043",
   "metadata": {},
   "outputs": [],
   "source": []
  }
 ],
 "metadata": {
  "kernelspec": {
   "display_name": "Python 3 (ipykernel)",
   "language": "python",
   "name": "python3"
  },
  "language_info": {
   "codemirror_mode": {
    "name": "ipython",
    "version": 3
   },
   "file_extension": ".py",
   "mimetype": "text/x-python",
   "name": "python",
   "nbconvert_exporter": "python",
   "pygments_lexer": "ipython3",
   "version": "3.10.12"
  }
 },
 "nbformat": 4,
 "nbformat_minor": 5
}
